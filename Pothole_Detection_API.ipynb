{
 "cells": [
  {
   "cell_type": "code",
   "execution_count": null,
   "metadata": {},
   "outputs": [
    {
     "name": "stdout",
     "output_type": "stream",
     "text": [
      " * Serving Flask app \"__main__\" (lazy loading)\n",
      " * Environment: production\n",
      "   WARNING: This is a development server. Do not use it in a production deployment.\n",
      "   Use a production WSGI server instead.\n",
      " * Debug mode: off\n"
     ]
    },
    {
     "name": "stderr",
     "output_type": "stream",
     "text": [
      " * Running on http://0.0.0.0:5000/ (Press CTRL+C to quit)\n"
     ]
    }
   ],
   "source": [
    "from flask import Flask,request,jsonify\n",
    "import numpy as np\n",
    "import pickle\n",
    "model = pickle.load(open('model.pkl','rb'))\n",
    "app = Flask(__name__)\n",
    "@app.route('/')\n",
    "def index():\n",
    "    return \"Pothole Detection\"\n",
    "@app.route('/predict',methods=['POST'])\n",
    "def predict():        \n",
    "    print (request.is_json)\n",
    "    content = request.get_json()    \n",
    "    accx = content['acc_x']    \n",
    "    accy = content['acc_y']    \n",
    "    accz = content['acc_z']    \n",
    "    gyrox = content['gyro_x']    \n",
    "    gyroy = content['gyro_y']    \n",
    "    gyroz = content['gyro_z']    \n",
    "    magx = content['mag_x']    \n",
    "    magy = content['mag_y']    \n",
    "    magz = content['mag_z']\n",
    "    \n",
    "#     print (content['acc_x'])\n",
    "#     print (content['acc_y'])\n",
    "#     print (content['acc_z'])\n",
    "#     print (content['gyro_x'])\n",
    "#     print (content['gyro_y'])\n",
    "#     print (content['gyro_z'])\n",
    "#     print (content['mag_x'])\n",
    "#     print (content['mag_y'])\n",
    "#     print (content['mag_z'])\n",
    "\n",
    "    input_query = np.array([[accx,accy,accz,gyrox,gyroy,gyroz,magx,magy,magz]])    \n",
    "    result = model.predict(input_query)[0]\n",
    "    return jsonify({'ispothole':str(result)})\n",
    "    #return \"Is Pothole\" + \" : \" + str(result)    \n",
    "if __name__ == '__main__':\n",
    "    app.run(host='0.0.0.0')\n"
   ]
  }
 ],
 "metadata": {
  "kernelspec": {
   "display_name": "Python 3",
   "language": "python",
   "name": "python3"
  },
  "language_info": {
   "codemirror_mode": {
    "name": "ipython",
    "version": 3
   },
   "file_extension": ".py",
   "mimetype": "text/x-python",
   "name": "python",
   "nbconvert_exporter": "python",
   "pygments_lexer": "ipython3",
   "version": "3.8.3"
  }
 },
 "nbformat": 4,
 "nbformat_minor": 4
}
