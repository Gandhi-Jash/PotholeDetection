{
 "cells": [
  {
   "cell_type": "code",
   "execution_count": 1,
   "metadata": {},
   "outputs": [],
   "source": [
    "from tensorflow.keras.preprocessing.image import ImageDataGenerator\n",
    "from tensorflow. keras. preprocessing import image\n",
    "from tensorflow.keras.optimizers import RMSprop\n",
    "import matplotlib.pyplot as plt\n",
    "import tensorflow as tf\n",
    "import numpy as np\n",
    "import cv2\n",
    "import os"
   ]
  },
  {
   "cell_type": "code",
   "execution_count": 2,
   "metadata": {},
   "outputs": [],
   "source": [
    "train = ImageDataGenerator(rescale=1/255)\n",
    "valiation = ImageDataGenerator(rescale=1/255)"
   ]
  },
  {
   "cell_type": "code",
   "execution_count": 3,
   "metadata": {},
   "outputs": [
    {
     "name": "stdout",
     "output_type": "stream",
     "text": [
      "Found 446 images belonging to 2 classes.\n",
      "Found 175 images belonging to 2 classes.\n"
     ]
    }
   ],
   "source": [
    "train_dataset = train.flow_from_directory('data/train/',\n",
    "                                         target_size=(200,200),\n",
    "                                         batch_size=3,\n",
    "                                         class_mode='binary')\n",
    "validation_dataset = train.flow_from_directory('data/validation/',\n",
    "                                         target_size=(200,200),\n",
    "                                         batch_size=3,\n",
    "                                         class_mode='binary')"
   ]
  },
  {
   "cell_type": "raw",
   "metadata": {},
   "source": [
    "train_dataset.classes"
   ]
  },
  {
   "cell_type": "code",
   "execution_count": 4,
   "metadata": {},
   "outputs": [],
   "source": [
    "model = tf.keras.models.Sequential([ tf.keras.layers.Conv2D(16,(3,3),activation = 'relu', input_shape =(200,200,3)), \n",
    "                                    tf.keras.layers.MaxPool2D(2,2),\n",
    "                                    #\n",
    "                                    tf.keras.layers.Conv2D(32,(3,3),activation = 'relu', input_shape =(200,200,3)), \n",
    "                                    tf.keras.layers.MaxPool2D(2,2),\n",
    "                                    ##\n",
    "                                    tf.keras.layers.Conv2D(64,(3,3),activation = 'relu', input_shape =(200,200,3)), \n",
    "                                    tf.keras.layers.MaxPool2D(2,2),\n",
    "                                    ##\n",
    "                                    tf.keras.layers.Flatten(),\n",
    "                                    ##\n",
    "                                    tf.keras.layers.Dense(512, activation= 'relu'),\n",
    "                                    ##\n",
    "                                    tf.keras.layers.Dense(1, activation= 'sigmoid')\n",
    "                                   ])"
   ]
  },
  {
   "cell_type": "code",
   "execution_count": 18,
   "metadata": {},
   "outputs": [],
   "source": [
    "model.compile(loss='binary_crossentropy',\n",
    "              optimizer = RMSprop(learning_rate = 0.001),\n",
    "              metrics =['accuracy'])"
   ]
  },
  {
   "cell_type": "code",
   "execution_count": 19,
   "metadata": {},
   "outputs": [
    {
     "name": "stdout",
     "output_type": "stream",
     "text": [
      "Epoch 1/10\n",
      "10/10 [==============================] - 5s 494ms/step - loss: 0.2940 - accuracy: 0.9000 - val_loss: 0.4505 - val_accuracy: 0.8800\n",
      "Epoch 2/10\n",
      "10/10 [==============================] - 5s 481ms/step - loss: 0.1763 - accuracy: 0.9667 - val_loss: 0.2528 - val_accuracy: 0.8800\n",
      "Epoch 3/10\n",
      "10/10 [==============================] - 4s 464ms/step - loss: 3.7287e-04 - accuracy: 1.0000 - val_loss: 0.2902 - val_accuracy: 0.8800\n",
      "Epoch 4/10\n",
      "10/10 [==============================] - 4s 456ms/step - loss: 0.1535 - accuracy: 0.9333 - val_loss: 0.3571 - val_accuracy: 0.8800\n",
      "Epoch 5/10\n",
      "10/10 [==============================] - 4s 460ms/step - loss: 1.6008e-04 - accuracy: 1.0000 - val_loss: 0.3703 - val_accuracy: 0.8800\n",
      "Epoch 6/10\n",
      "10/10 [==============================] - 4s 461ms/step - loss: 0.2061 - accuracy: 0.9333 - val_loss: 0.0186 - val_accuracy: 1.0000\n",
      "Epoch 7/10\n",
      "10/10 [==============================] - 4s 466ms/step - loss: 0.0013 - accuracy: 1.0000 - val_loss: 0.0109 - val_accuracy: 1.0000\n",
      "Epoch 8/10\n",
      "10/10 [==============================] - 4s 469ms/step - loss: 0.0015 - accuracy: 1.0000 - val_loss: 0.0024 - val_accuracy: 1.0000\n",
      "Epoch 9/10\n",
      "10/10 [==============================] - 4s 463ms/step - loss: 0.0063 - accuracy: 1.0000 - val_loss: 0.0834 - val_accuracy: 0.9714\n",
      "Epoch 10/10\n",
      "10/10 [==============================] - 4s 468ms/step - loss: 0.0031 - accuracy: 1.0000 - val_loss: 0.0010 - val_accuracy: 1.0000\n"
     ]
    }
   ],
   "source": [
    "model_fit = model.fit(train_dataset, \n",
    "                      steps_per_epoch= 10, \n",
    "                      epochs= 10, \n",
    "                      validation_data= validation_dataset)"
   ]
  }
 ],
 "metadata": {
  "kernelspec": {
   "display_name": "Python 3",
   "language": "python",
   "name": "python3"
  },
  "language_info": {
   "codemirror_mode": {
    "name": "ipython",
    "version": 3
   },
   "file_extension": ".py",
   "mimetype": "text/x-python",
   "name": "python",
   "nbconvert_exporter": "python",
   "pygments_lexer": "ipython3",
   "version": "3.8.3"
  }
 },
 "nbformat": 4,
 "nbformat_minor": 4
}
